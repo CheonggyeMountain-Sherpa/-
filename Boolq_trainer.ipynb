{
 "cells": [
  {
   "cell_type": "code",
   "execution_count": 1,
   "source": [
    "import pandas as pd\n",
    "from transformers import GPT2TokenizerFast, GPT2Config, GPT2ForSequenceClassification, Trainer, TrainingArguments\n",
    "import torch\n",
    "import torch.nn as nn\n",
    "import torch.optim as optim\n",
    "from torch.utils.data import Dataset,DataLoader\n",
    "from datasets import load_metric\n",
    "import wandb\n",
    "from sklearn.metrics import accuracy_score, recall_score, precision_score, f1_score\n",
    "from transformers import EarlyStoppingCallback\n",
    "import numpy as np"
   ],
   "outputs": [],
   "metadata": {}
  },
  {
   "cell_type": "code",
   "execution_count": 2,
   "source": [
    "def compute_metrics(p):\n",
    "    pred, labels = p\n",
    "    pred = np.argmax(pred, axis=1)\n",
    "\n",
    "    accuracy = accuracy_score(y_true=labels, y_pred=pred)\n",
    "    #recall = recall_score(y_true=labels, y_pred=pred)\n",
    "    #precision = precision_score(y_true=labels, y_pred=pred)\n",
    "    #f1 = f1_score(y_true=labels, y_pred=pred)\n",
    "\n",
    "    return {\"accuracy\": accuracy} #, \"precision\": precision, \"recall\": recall, \"f1\": f1}\n"
   ],
   "outputs": [],
   "metadata": {}
  },
  {
   "cell_type": "code",
   "execution_count": 3,
   "source": [
    "# 토크나이저 \n",
    "\n",
    "gpt_name = 'skt/ko-gpt-trinity-1.2B-v0.5'\n",
    "tokenizer = GPT2TokenizerFast.from_pretrained(gpt_name)"
   ],
   "outputs": [],
   "metadata": {}
  },
  {
   "cell_type": "code",
   "execution_count": 4,
   "source": [
    "def read_boolq(data_path):\n",
    "    data = pd.read_csv(data_path, delimiter='\\t')\n",
    "    label_col = 'Answer(FALSE = 0, TRUE = 1)'\n",
    "    texts = []\n",
    "    labels = []\n",
    "    sos = '<s>'\n",
    "    eos = '<\\s>'\n",
    "    t = '<unused0>'\n",
    "    q = '<unused1>'\n",
    "\n",
    "    for i in range(len(data)):\n",
    "        text = t + sos + data['Text'][i] + eos + q + sos + data['Question'][i] + eos\n",
    "        texts.append(text)\n",
    "        labels.append(data[label_col][i])\n",
    "    return texts, labels"
   ],
   "outputs": [],
   "metadata": {}
  },
  {
   "cell_type": "code",
   "execution_count": 5,
   "source": [
    "class BooqDataset(Dataset):\n",
    "    def __init__(self, encodings, labels):\n",
    "        self.encodings = encodings\n",
    "        self.labels = labels\n",
    "  \n",
    "    def __getitem__(self, idx):\n",
    "        item = {key: torch.tensor(val[idx]) for key, val in self.encodings.items()}\n",
    "        item['labels'] = torch.tensor(self.labels[idx])\n",
    "        return item\n",
    "\n",
    "    def __len__(self):\n",
    "        return len(self.labels)"
   ],
   "outputs": [],
   "metadata": {}
  },
  {
   "cell_type": "code",
   "execution_count": 6,
   "source": [
    "TRAIN_PATH = '/opt/ml/corpus_korean/data/BoolQ/SKT_BoolQ_Train.tsv'\n",
    "VALID_PATH = '/opt/ml/corpus_korean/data/BoolQ/SKT_BoolQ_Dev.tsv'\n",
    "\n",
    "train_texts, train_labels = read_boolq(TRAIN_PATH)\n",
    "valid_texts, valid_labels = read_boolq(VALID_PATH)\n",
    "\n",
    "train_encodings = tokenizer(train_texts, truncation=True, padding=True)\n",
    "valid_encodings = tokenizer(valid_texts, truncation=True, padding=True)\n",
    "\n",
    "train_dataset = BooqDataset(train_encodings, train_labels)\n",
    "valid_dataset = BooqDataset(valid_encodings, valid_labels)"
   ],
   "outputs": [
    {
     "output_type": "stream",
     "name": "stderr",
     "text": [
      "Asking to truncate to max_length but no maximum length is provided and the model has no predefined maximum length. Default to no truncation.\n"
     ]
    }
   ],
   "metadata": {}
  },
  {
   "cell_type": "code",
   "execution_count": null,
   "source": [
    "config = GPT2Config.from_pretrained(gpt_name)\n",
    "config.num_labels = 2\n",
    "model = GPT2ForSequenceClassification(config).from_pretrained(gpt_name)"
   ],
   "outputs": [],
   "metadata": {}
  },
  {
   "cell_type": "code",
   "execution_count": null,
   "source": [
    "for param in model.parameters():\n",
    "    param.requires_grad = False\n",
    "\n",
    "for param in model.score.parameters():\n",
    "    param.requires_grad = True"
   ],
   "outputs": [],
   "metadata": {}
  },
  {
   "cell_type": "code",
   "execution_count": 9,
   "source": [
    "gpt_last_idx = len(model.transformer.h) - 1\n",
    "not_freeze_num = 7\n",
    "\n",
    "for idx in range(gpt_last_idx,  gpt_last_idx - not_freeze_num -1, -1):\n",
    "    for param in model.transformer.h[idx].parameters():\n",
    "        param.requires_grad = True"
   ],
   "outputs": [],
   "metadata": {}
  },
  {
   "cell_type": "code",
   "execution_count": 10,
   "source": [
    "training_args = TrainingArguments(\n",
    "    output_dir='./results',          # output directory\n",
    "    num_train_epochs=100,              # total number of training epochs\n",
    "    per_device_train_batch_size=32,  # batch size per device during training\n",
    "    per_device_eval_batch_size=16,   # batch size for evaluation\n",
    "    learning_rate= 5e-4,\n",
    "    evaluation_strategy = \"steps\",\n",
    "    eval_steps = 100, # Evaluation and Save happens every 10 steps\n",
    "    weight_decay= 0.01,               # strength of weight decay\n",
    "    logging_dir='./logs',            # directory for storing logs\n",
    "    logging_steps=100,\n",
    "    save_total_limit = 5, # Only last 5 models are saved. Older ones are deleted.\n",
    "    report_to=\"wandb\",  # enable logging to W&B\n",
    "    run_name=\"gpt2 block 23 - 16 finetune\",\n",
    "    seed = 0,\n",
    "    load_best_model_at_end=True,\n",
    ")"
   ],
   "outputs": [],
   "metadata": {}
  },
  {
   "cell_type": "code",
   "execution_count": null,
   "source": [
    "trainer = Trainer(model = model, \n",
    "                  args = training_args, \n",
    "                  train_dataset=train_dataset,\n",
    "                  eval_dataset=valid_dataset,\n",
    "                  compute_metrics=compute_metrics,\n",
    "                  callbacks=[EarlyStoppingCallback(early_stopping_patience=3)],\n",
    "                 )\n",
    "trainer.train()\n",
    "wandb.finish()"
   ],
   "outputs": [],
   "metadata": {}
  }
 ],
 "metadata": {
  "interpreter": {
   "hash": "98b0a9b7b4eaaa670588a142fd0a9b87eaafe866f1db4228be72b4211d12040f"
  },
  "kernelspec": {
   "display_name": "Python 3 (ipykernel)",
   "language": "python",
   "name": "python3"
  },
  "language_info": {
   "codemirror_mode": {
    "name": "ipython",
    "version": 3
   },
   "file_extension": ".py",
   "mimetype": "text/x-python",
   "name": "python",
   "nbconvert_exporter": "python",
   "pygments_lexer": "ipython3",
   "version": "3.8.5"
  }
 },
 "nbformat": 4,
 "nbformat_minor": 4
}