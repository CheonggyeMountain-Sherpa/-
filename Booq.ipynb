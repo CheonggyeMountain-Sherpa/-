{
 "cells": [
  {
   "cell_type": "code",
   "execution_count": 1,
   "source": [
    "#!pip install tensorflow-gpu\n",
    "import pandas as pd\n",
    "from transformers import GPT2TokenizerFast, GPT2Config, GPT2ForSequenceClassification, Trainer, TrainingArguments\n",
    "import torch\n",
    "import torch.nn as nn\n",
    "import torch.optim as optim\n",
    "from torch.utils.data import Dataset,DataLoader\n",
    "from datasets import load_metric\n",
    "import wandb\n",
    "from tqdm import tqdm\n",
    "import os"
   ],
   "outputs": [],
   "metadata": {}
  },
  {
   "cell_type": "code",
   "execution_count": 2,
   "source": [
    "gpt_name = 'skt/ko-gpt-trinity-1.2B-v0.5'\n",
    "\n",
    "tokenizer = GPT2TokenizerFast.from_pretrained(gpt_name)\n",
    "\n",
    "config = GPT2Config.from_pretrained(gpt_name)\n",
    "config.num_labels = 2\n"
   ],
   "outputs": [],
   "metadata": {}
  },
  {
   "cell_type": "code",
   "execution_count": 3,
   "source": [
    "def accuracy(output, target):\n",
    "    with torch.no_grad():\n",
    "        pred = torch.argmax(output, dim=1)\n",
    "        assert pred.shape[0] == len(target)\n",
    "        correct = 0\n",
    "        correct += torch.sum(pred == target).item()\n",
    "    return correct / len(target)"
   ],
   "outputs": [],
   "metadata": {}
  },
  {
   "cell_type": "code",
   "execution_count": 4,
   "source": [
    "def read_boolq(data_path):\n",
    "    data = pd.read_csv(data_path, delimiter='\\t')\n",
    "    label_col = 'Answer(FALSE = 0, TRUE = 1)'\n",
    "    texts = []\n",
    "    labels = []\n",
    "    sos = '<s>'\n",
    "    eos = '<\\s>'\n",
    "    t = '<unused0>'\n",
    "    q = '<unused1>'\n",
    "\n",
    "    for i in range(len(data)):\n",
    "        text = t + sos + data['Text'][i] + eos + q + sos + data['Question'][i] + eos\n",
    "        texts.append(text)\n",
    "        labels.append(data[label_col][i])\n",
    "    return texts, labels"
   ],
   "outputs": [],
   "metadata": {}
  },
  {
   "cell_type": "code",
   "execution_count": 5,
   "source": [
    "TRAIN_PATH = '/opt/ml/corpus_korean/data/BoolQ/SKT_BoolQ_Train.tsv'\n",
    "VALID_PATH = '/opt/ml/corpus_korean/data/BoolQ/SKT_BoolQ_Dev.tsv'"
   ],
   "outputs": [],
   "metadata": {}
  },
  {
   "cell_type": "code",
   "execution_count": 6,
   "source": [
    "train_texts, train_labels = read_boolq(TRAIN_PATH)\n",
    "valid_texts, valid_labels = read_boolq(VALID_PATH)"
   ],
   "outputs": [],
   "metadata": {}
  },
  {
   "cell_type": "code",
   "execution_count": 7,
   "source": [
    "class BooqDataset(Dataset):\n",
    "    def __init__(self, encodings, labels):\n",
    "        self.encodings = encodings\n",
    "        self.labels = labels\n",
    "  \n",
    "    def __getitem__(self, idx):\n",
    "        item = {key: torch.tensor(val[idx]) for key, val in self.encodings.items()}\n",
    "        item['labels'] = torch.tensor(self.labels[idx])\n",
    "        return item\n",
    "\n",
    "    def __len__(self):\n",
    "        return len(self.labels)\n"
   ],
   "outputs": [],
   "metadata": {}
  },
  {
   "cell_type": "code",
   "execution_count": 8,
   "source": [
    "train_encodings = tokenizer(train_texts, truncation=True, padding=True)\n",
    "valid_encodings = tokenizer(valid_texts, truncation=True, padding=True)"
   ],
   "outputs": [
    {
     "output_type": "stream",
     "name": "stderr",
     "text": [
      "Asking to truncate to max_length but no maximum length is provided and the model has no predefined maximum length. Default to no truncation.\n"
     ]
    }
   ],
   "metadata": {}
  },
  {
   "cell_type": "code",
   "execution_count": 9,
   "source": [
    "train_dataset = BooqDataset(train_encodings, train_labels)\n",
    "valid_dataset = BooqDataset(valid_encodings, valid_labels)"
   ],
   "outputs": [],
   "metadata": {}
  },
  {
   "cell_type": "code",
   "execution_count": 13,
   "source": [
    "'''\n",
    "text token + sos + 문장 + eos + question token \n",
    "<t>\n",
    "'''"
   ],
   "outputs": [
    {
     "output_type": "execute_result",
     "data": {
      "text/plain": [
       "'\\ntext token + sos + 문장 + eos + question token \\n<t>\\n'"
      ]
     },
     "metadata": {},
     "execution_count": 13
    }
   ],
   "metadata": {}
  },
  {
   "cell_type": "code",
   "execution_count": null,
   "source": [
    "model = GPT2ForSequenceClassification(config).from_pretrained(gpt_name)"
   ],
   "outputs": [],
   "metadata": {}
  },
  {
   "cell_type": "code",
   "execution_count": 11,
   "source": [
    "for param in model.parameters():\n",
    "    param.requires_grad = False\n",
    "    \n",
    "for param in model.score.parameters():\n",
    "    param.requires_grad = True"
   ],
   "outputs": [],
   "metadata": {}
  },
  {
   "cell_type": "code",
   "execution_count": null,
   "source": [
    "config = {'epochs' : 20 , 'learning_rate' : 5e-6, 'batch_size' : 32, 'weight_decay' : 0}\n",
    "wandb.init(project='nlp_test',config=config)"
   ],
   "outputs": [],
   "metadata": {
    "tags": []
   }
  },
  {
   "cell_type": "code",
   "execution_count": 13,
   "source": [
    "cfg = wandb.config"
   ],
   "outputs": [],
   "metadata": {}
  },
  {
   "cell_type": "code",
   "execution_count": 14,
   "source": [
    "train_loader = DataLoader(train_dataset,cfg.batch_size, shuffle = True)\n",
    "valid_loader = DataLoader(valid_dataset,cfg.batch_size, shuffle = True)"
   ],
   "outputs": [],
   "metadata": {}
  },
  {
   "cell_type": "code",
   "execution_count": 15,
   "source": [
    "device = torch.device('cuda' if torch.cuda.is_available() else 'cpu')\n",
    "LEARNING_RATE = cfg.learning_rate\n",
    "criterion = nn.CrossEntropyLoss().to(device)\n",
    "optimizer = optim.Adam(model.parameters(), lr=LEARNING_RATE,amsgrad=True,weight_decay=cfg.weight_decay)\n",
    "#scheduler = torch.optim.lr_scheduler.LambdaLR(optimizer, lr_lambda=lambda1)\n",
    "output_dir='./results'"
   ],
   "outputs": [],
   "metadata": {}
  },
  {
   "cell_type": "code",
   "execution_count": null,
   "source": [
    "model.to(device)\n",
    "model.train()"
   ],
   "outputs": [],
   "metadata": {
    "collapsed": true,
    "jupyter": {
     "outputs_hidden": true
    },
    "tags": []
   }
  },
  {
   "cell_type": "code",
   "execution_count": null,
   "source": [
    "grad_num = 2\n",
    "layer_idx = [[j - i for i in range(grad_num)] for j in range(len(model.transformer.h)-1, -1, -1 * grad_num)]\n",
    "vacc_li = [0]\n",
    "\n",
    "\n",
    "for e in range(cfg.epochs):\n",
    "    epoch_loss = 0\n",
    "    epoch_acc = 0\n",
    "    for batch in tqdm(train_loader,'train: '):\n",
    "        optimizer.zero_grad()\n",
    "        input_ids = batch['input_ids'].to(device)\n",
    "        attention_mask = batch['attention_mask'].to(device)\n",
    "        labels = batch['labels'].to(device)\n",
    "        \n",
    "        outputs = model(input_ids, attention_mask=attention_mask, labels=labels)\n",
    "        loss = criterion(outputs.logits, labels)\n",
    "        acc = accuracy(outputs.logits, labels)\n",
    "        wandb.log({'loss': loss.item(), 'accuracy': acc})\n",
    "        \n",
    "        loss.backward()\n",
    "        optimizer.step()\n",
    "    # valid\n",
    "        del input_ids\n",
    "        del attention_mask\n",
    "        del labels\n",
    "        del loss\n",
    "        del outputs\n",
    "        torch.cuda.empty_cache()\n",
    "    \n",
    "    \n",
    "    \n",
    "    model.eval()\n",
    "    valid_acc = 0\n",
    "    valid_loss = 0\n",
    "    for batch in tqdm(valid_loader, 'valid: '):\n",
    "        with torch.no_grad():\n",
    "            input_ids = batch['input_ids'].to(device)\n",
    "            attention_mask = batch['attention_mask'].to(device)\n",
    "            labels = batch['labels'].to(device)\n",
    "            \n",
    "            outputs = model(input_ids, attention_mask=attention_mask, labels=labels)\n",
    "            loss = criterion(outputs.logits, labels)\n",
    "            \n",
    "            acc = accuracy(outputs.logits, labels)\n",
    "            valid_acc += acc\n",
    "            \n",
    "            valid_loss += loss.item()\n",
    "            \n",
    "            del input_ids\n",
    "            del attention_mask\n",
    "            del labels\n",
    "            del loss\n",
    "            del outputs\n",
    "            torch.cuda.empty_cache()\n",
    "    \n",
    "    vacc = valid_acc/len(valid_loader)\n",
    "    vacc_f = f'{vacc:.3f}'\n",
    "    wandb.log({'valid_loss': valid_loss/len(valid_loader)})\n",
    "    wandb.log({'val_accuracy' :vacc })\n",
    "    model.train()\n",
    "    \n",
    "    if not os.path.exists(output_dir):\n",
    "        os.makedirs(output_dir)\n",
    "    if vacc_li[-1] < vacc:\n",
    "        torch.save(model.state_dict(), os.path.join(output_dir, f'boolq_{e+0:03}_{vacc_f}.pt'))\n",
    "        vacc_li.append(vacc)\n",
    "        \n",
    "    for param in model.parameters():\n",
    "        param.requires_grad = False\n",
    "\n",
    "    for param in model.score.parameters():\n",
    "        param.requires_grad = True\n",
    "\n",
    "    for idx in layer_idx[e % len(layer_idx)]:\n",
    "        for param in model.transformer.h[idx].parameters():\n",
    "            param.requires_grad = True\n",
    "\n",
    "wandb.finish()"
   ],
   "outputs": [],
   "metadata": {}
  }
 ],
 "metadata": {
  "interpreter": {
   "hash": "98b0a9b7b4eaaa670588a142fd0a9b87eaafe866f1db4228be72b4211d12040f"
  },
  "kernelspec": {
   "display_name": "Python 3 (ipykernel)",
   "language": "python",
   "name": "python3"
  },
  "language_info": {
   "codemirror_mode": {
    "name": "ipython",
    "version": 3
   },
   "file_extension": ".py",
   "mimetype": "text/x-python",
   "name": "python",
   "nbconvert_exporter": "python",
   "pygments_lexer": "ipython3",
   "version": "3.8.5"
  }
 },
 "nbformat": 4,
 "nbformat_minor": 4
}